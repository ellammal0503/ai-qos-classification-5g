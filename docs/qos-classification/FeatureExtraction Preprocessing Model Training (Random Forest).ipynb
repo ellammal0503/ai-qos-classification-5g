{
 "cells": [
  {
   "cell_type": "code",
   "execution_count": 1,
   "id": "b871e57c",
   "metadata": {},
   "outputs": [
    {
     "name": "stderr",
     "output_type": "stream",
     "text": [
      "/Users/karthickkumarasamy/anaconda3/lib/python3.11/site-packages/pandas/core/arrays/masked.py:60: UserWarning: Pandas requires version '1.3.6' or newer of 'bottleneck' (version '1.3.5' currently installed).\n",
      "  from pandas.core import (\n"
     ]
    }
   ],
   "source": [
    "import pandas as pd\n",
    "from sklearn.preprocessing import StandardScaler\n",
    "from sklearn.model_selection import train_test_split\n"
   ]
  },
  {
   "cell_type": "code",
   "execution_count": 2,
   "id": "7bf201a6",
   "metadata": {},
   "outputs": [],
   "source": [
    "\n",
    "# Load dataset\n",
    "#df = pd.read_csv(\"5g_qos_data.csv\")\n",
    "df = pd.read_csv('synthetic_5g_qos_dataset_10000.csv')\n"
   ]
  },
  {
   "cell_type": "code",
   "execution_count": 3,
   "id": "8ebcecf9",
   "metadata": {},
   "outputs": [
    {
     "data": {
      "text/html": [
       "<div>\n",
       "<style scoped>\n",
       "    .dataframe tbody tr th:only-of-type {\n",
       "        vertical-align: middle;\n",
       "    }\n",
       "\n",
       "    .dataframe tbody tr th {\n",
       "        vertical-align: top;\n",
       "    }\n",
       "\n",
       "    .dataframe thead th {\n",
       "        text-align: right;\n",
       "    }\n",
       "</style>\n",
       "<table border=\"1\" class=\"dataframe\">\n",
       "  <thead>\n",
       "    <tr style=\"text-align: right;\">\n",
       "      <th></th>\n",
       "      <th>source_ip</th>\n",
       "      <th>destination_ip</th>\n",
       "      <th>protocol</th>\n",
       "      <th>packet_size</th>\n",
       "      <th>inter_arrival_time_ms</th>\n",
       "      <th>jitter_ms</th>\n",
       "      <th>qos_class</th>\n",
       "    </tr>\n",
       "  </thead>\n",
       "  <tbody>\n",
       "    <tr>\n",
       "      <th>0</th>\n",
       "      <td>192.168.187.205</td>\n",
       "      <td>192.0.2.91</td>\n",
       "      <td>TCP</td>\n",
       "      <td>278</td>\n",
       "      <td>27.53</td>\n",
       "      <td>1.06</td>\n",
       "      <td>URLLC</td>\n",
       "    </tr>\n",
       "    <tr>\n",
       "      <th>1</th>\n",
       "      <td>192.168.83.71</td>\n",
       "      <td>192.0.2.32</td>\n",
       "      <td>ICMP</td>\n",
       "      <td>353</td>\n",
       "      <td>147.20</td>\n",
       "      <td>2.66</td>\n",
       "      <td>mMTC</td>\n",
       "    </tr>\n",
       "    <tr>\n",
       "      <th>2</th>\n",
       "      <td>192.168.157.92</td>\n",
       "      <td>192.0.2.44</td>\n",
       "      <td>ICMP</td>\n",
       "      <td>381</td>\n",
       "      <td>14.29</td>\n",
       "      <td>3.14</td>\n",
       "      <td>URLLC</td>\n",
       "    </tr>\n",
       "    <tr>\n",
       "      <th>3</th>\n",
       "      <td>192.168.183.32</td>\n",
       "      <td>192.0.2.73</td>\n",
       "      <td>UDP</td>\n",
       "      <td>1409</td>\n",
       "      <td>48.91</td>\n",
       "      <td>7.46</td>\n",
       "      <td>eMBB</td>\n",
       "    </tr>\n",
       "    <tr>\n",
       "      <th>4</th>\n",
       "      <td>192.168.39.115</td>\n",
       "      <td>192.0.2.179</td>\n",
       "      <td>UDP</td>\n",
       "      <td>246</td>\n",
       "      <td>25.61</td>\n",
       "      <td>2.66</td>\n",
       "      <td>URLLC</td>\n",
       "    </tr>\n",
       "    <tr>\n",
       "      <th>...</th>\n",
       "      <td>...</td>\n",
       "      <td>...</td>\n",
       "      <td>...</td>\n",
       "      <td>...</td>\n",
       "      <td>...</td>\n",
       "      <td>...</td>\n",
       "      <td>...</td>\n",
       "    </tr>\n",
       "    <tr>\n",
       "      <th>9995</th>\n",
       "      <td>192.168.180.129</td>\n",
       "      <td>192.0.2.169</td>\n",
       "      <td>UDP</td>\n",
       "      <td>1122</td>\n",
       "      <td>20.55</td>\n",
       "      <td>1.36</td>\n",
       "      <td>URLLC</td>\n",
       "    </tr>\n",
       "    <tr>\n",
       "      <th>9996</th>\n",
       "      <td>192.168.238.209</td>\n",
       "      <td>192.0.2.224</td>\n",
       "      <td>TCP</td>\n",
       "      <td>218</td>\n",
       "      <td>89.87</td>\n",
       "      <td>8.31</td>\n",
       "      <td>mMTC</td>\n",
       "    </tr>\n",
       "    <tr>\n",
       "      <th>9997</th>\n",
       "      <td>192.168.58.167</td>\n",
       "      <td>192.0.2.130</td>\n",
       "      <td>TCP</td>\n",
       "      <td>780</td>\n",
       "      <td>60.44</td>\n",
       "      <td>6.08</td>\n",
       "      <td>mMTC</td>\n",
       "    </tr>\n",
       "    <tr>\n",
       "      <th>9998</th>\n",
       "      <td>192.168.202.241</td>\n",
       "      <td>192.0.2.75</td>\n",
       "      <td>ICMP</td>\n",
       "      <td>678</td>\n",
       "      <td>15.18</td>\n",
       "      <td>4.26</td>\n",
       "      <td>URLLC</td>\n",
       "    </tr>\n",
       "    <tr>\n",
       "      <th>9999</th>\n",
       "      <td>192.168.167.11</td>\n",
       "      <td>192.0.2.130</td>\n",
       "      <td>TCP</td>\n",
       "      <td>505</td>\n",
       "      <td>40.25</td>\n",
       "      <td>4.49</td>\n",
       "      <td>mMTC</td>\n",
       "    </tr>\n",
       "  </tbody>\n",
       "</table>\n",
       "<p>10000 rows × 7 columns</p>\n",
       "</div>"
      ],
      "text/plain": [
       "            source_ip destination_ip protocol  packet_size  \\\n",
       "0     192.168.187.205     192.0.2.91      TCP          278   \n",
       "1       192.168.83.71     192.0.2.32     ICMP          353   \n",
       "2      192.168.157.92     192.0.2.44     ICMP          381   \n",
       "3      192.168.183.32     192.0.2.73      UDP         1409   \n",
       "4      192.168.39.115    192.0.2.179      UDP          246   \n",
       "...               ...            ...      ...          ...   \n",
       "9995  192.168.180.129    192.0.2.169      UDP         1122   \n",
       "9996  192.168.238.209    192.0.2.224      TCP          218   \n",
       "9997   192.168.58.167    192.0.2.130      TCP          780   \n",
       "9998  192.168.202.241     192.0.2.75     ICMP          678   \n",
       "9999   192.168.167.11    192.0.2.130      TCP          505   \n",
       "\n",
       "      inter_arrival_time_ms  jitter_ms qos_class  \n",
       "0                     27.53       1.06     URLLC  \n",
       "1                    147.20       2.66      mMTC  \n",
       "2                     14.29       3.14     URLLC  \n",
       "3                     48.91       7.46      eMBB  \n",
       "4                     25.61       2.66     URLLC  \n",
       "...                     ...        ...       ...  \n",
       "9995                  20.55       1.36     URLLC  \n",
       "9996                  89.87       8.31      mMTC  \n",
       "9997                  60.44       6.08      mMTC  \n",
       "9998                  15.18       4.26     URLLC  \n",
       "9999                  40.25       4.49      mMTC  \n",
       "\n",
       "[10000 rows x 7 columns]"
      ]
     },
     "execution_count": 3,
     "metadata": {},
     "output_type": "execute_result"
    }
   ],
   "source": [
    "df"
   ]
  },
  {
   "cell_type": "code",
   "execution_count": 4,
   "id": "56f8297a",
   "metadata": {},
   "outputs": [
    {
     "name": "stdout",
     "output_type": "stream",
     "text": [
      "<class 'pandas.core.frame.DataFrame'>\n",
      "RangeIndex: 10000 entries, 0 to 9999\n",
      "Data columns (total 7 columns):\n",
      " #   Column                 Non-Null Count  Dtype  \n",
      "---  ------                 --------------  -----  \n",
      " 0   source_ip              10000 non-null  object \n",
      " 1   destination_ip         10000 non-null  object \n",
      " 2   protocol               10000 non-null  object \n",
      " 3   packet_size            10000 non-null  int64  \n",
      " 4   inter_arrival_time_ms  10000 non-null  float64\n",
      " 5   jitter_ms              10000 non-null  float64\n",
      " 6   qos_class              10000 non-null  object \n",
      "dtypes: float64(2), int64(1), object(4)\n",
      "memory usage: 547.0+ KB\n"
     ]
    }
   ],
   "source": [
    "df.info()"
   ]
  },
  {
   "cell_type": "code",
   "execution_count": 5,
   "id": "58d8dc2e",
   "metadata": {},
   "outputs": [
    {
     "data": {
      "text/html": [
       "<div>\n",
       "<style scoped>\n",
       "    .dataframe tbody tr th:only-of-type {\n",
       "        vertical-align: middle;\n",
       "    }\n",
       "\n",
       "    .dataframe tbody tr th {\n",
       "        vertical-align: top;\n",
       "    }\n",
       "\n",
       "    .dataframe thead th {\n",
       "        text-align: right;\n",
       "    }\n",
       "</style>\n",
       "<table border=\"1\" class=\"dataframe\">\n",
       "  <thead>\n",
       "    <tr style=\"text-align: right;\">\n",
       "      <th></th>\n",
       "      <th>packet_size</th>\n",
       "      <th>inter_arrival_time_ms</th>\n",
       "      <th>jitter_ms</th>\n",
       "    </tr>\n",
       "  </thead>\n",
       "  <tbody>\n",
       "    <tr>\n",
       "      <th>count</th>\n",
       "      <td>10000.000000</td>\n",
       "      <td>10000.000000</td>\n",
       "      <td>10000.000000</td>\n",
       "    </tr>\n",
       "    <tr>\n",
       "      <th>mean</th>\n",
       "      <td>814.383500</td>\n",
       "      <td>56.667700</td>\n",
       "      <td>4.664463</td>\n",
       "    </tr>\n",
       "    <tr>\n",
       "      <th>std</th>\n",
       "      <td>397.780548</td>\n",
       "      <td>38.155083</td>\n",
       "      <td>1.990800</td>\n",
       "    </tr>\n",
       "    <tr>\n",
       "      <th>min</th>\n",
       "      <td>100.000000</td>\n",
       "      <td>1.600000</td>\n",
       "      <td>0.060000</td>\n",
       "    </tr>\n",
       "    <tr>\n",
       "      <th>25%</th>\n",
       "      <td>463.000000</td>\n",
       "      <td>23.280000</td>\n",
       "      <td>3.130000</td>\n",
       "    </tr>\n",
       "    <tr>\n",
       "      <th>50%</th>\n",
       "      <td>800.000000</td>\n",
       "      <td>48.560000</td>\n",
       "      <td>4.450000</td>\n",
       "    </tr>\n",
       "    <tr>\n",
       "      <th>75%</th>\n",
       "      <td>1169.000000</td>\n",
       "      <td>79.415000</td>\n",
       "      <td>6.010000</td>\n",
       "    </tr>\n",
       "    <tr>\n",
       "      <th>max</th>\n",
       "      <td>1500.000000</td>\n",
       "      <td>209.350000</td>\n",
       "      <td>12.870000</td>\n",
       "    </tr>\n",
       "  </tbody>\n",
       "</table>\n",
       "</div>"
      ],
      "text/plain": [
       "        packet_size  inter_arrival_time_ms     jitter_ms\n",
       "count  10000.000000           10000.000000  10000.000000\n",
       "mean     814.383500              56.667700      4.664463\n",
       "std      397.780548              38.155083      1.990800\n",
       "min      100.000000               1.600000      0.060000\n",
       "25%      463.000000              23.280000      3.130000\n",
       "50%      800.000000              48.560000      4.450000\n",
       "75%     1169.000000              79.415000      6.010000\n",
       "max     1500.000000             209.350000     12.870000"
      ]
     },
     "execution_count": 5,
     "metadata": {},
     "output_type": "execute_result"
    }
   ],
   "source": [
    "df.describe()"
   ]
  },
  {
   "cell_type": "code",
   "execution_count": 6,
   "id": "6e4189da",
   "metadata": {},
   "outputs": [
    {
     "data": {
      "text/plain": [
       "source_ip                 object\n",
       "destination_ip            object\n",
       "protocol                  object\n",
       "packet_size                int64\n",
       "inter_arrival_time_ms    float64\n",
       "jitter_ms                float64\n",
       "qos_class                 object\n",
       "dtype: object"
      ]
     },
     "execution_count": 6,
     "metadata": {},
     "output_type": "execute_result"
    }
   ],
   "source": [
    "df.dtypes"
   ]
  },
  {
   "cell_type": "code",
   "execution_count": 7,
   "id": "99a5563f",
   "metadata": {},
   "outputs": [
    {
     "data": {
      "text/plain": [
       "source_ip        destination_ip  protocol  packet_size  inter_arrival_time_ms  jitter_ms  qos_class\n",
       "192.168.0.10     192.0.2.71      ICMP      714          133.78                 3.77       mMTC         1\n",
       "192.168.250.70   192.0.2.100     UDP       970          4.48                   3.29       URLLC        1\n",
       "192.168.250.244  192.0.2.237     UDP       170          78.03                  7.56       mMTC         1\n",
       "                 192.0.2.238     ICMP      292          16.72                  2.50       URLLC        1\n",
       "192.168.250.28   192.0.2.52      TCP       886          24.83                  3.77       URLLC        1\n",
       "                                                                                                      ..\n",
       "192.168.175.92   192.0.2.201     TCP       188          120.70                 5.62       mMTC         1\n",
       "192.168.176.10   192.0.2.37      ICMP      143          119.24                 3.83       mMTC         1\n",
       "192.168.176.118  192.0.2.178     UDP       1485         57.44                  7.92       eMBB         1\n",
       "192.168.176.122  192.0.2.51      UDP       806          15.53                  3.54       URLLC        1\n",
       "192.168.99.90    192.0.2.175     TCP       344          36.87                  4.95       mMTC         1\n",
       "Name: count, Length: 10000, dtype: int64"
      ]
     },
     "execution_count": 7,
     "metadata": {},
     "output_type": "execute_result"
    }
   ],
   "source": [
    "df.value_counts()"
   ]
  },
  {
   "cell_type": "code",
   "execution_count": 8,
   "id": "8d94f9a9",
   "metadata": {},
   "outputs": [
    {
     "data": {
      "text/plain": [
       "Index(['source_ip', 'destination_ip', 'protocol', 'packet_size',\n",
       "       'inter_arrival_time_ms', 'jitter_ms', 'qos_class'],\n",
       "      dtype='object')"
      ]
     },
     "execution_count": 8,
     "metadata": {},
     "output_type": "execute_result"
    }
   ],
   "source": [
    "df.columns"
   ]
  },
  {
   "cell_type": "code",
   "execution_count": 9,
   "id": "8b75a1a4",
   "metadata": {},
   "outputs": [],
   "source": [
    "# Features and labels\n",
    "X = df.drop(\"qos_class\", axis=1)\n",
    "y = df[\"qos_class\"]\n"
   ]
  },
  {
   "cell_type": "code",
   "execution_count": 10,
   "id": "51787700",
   "metadata": {},
   "outputs": [],
   "source": [
    "import pandas as pd\n",
    "from sklearn.model_selection import train_test_split\n",
    "from sklearn.preprocessing import LabelEncoder\n",
    "from sklearn.ensemble import RandomForestClassifier\n",
    "from sklearn.metrics import classification_report, accuracy_score\n",
    "\n"
   ]
  },
  {
   "cell_type": "code",
   "execution_count": 11,
   "id": "536e2dea",
   "metadata": {},
   "outputs": [],
   "source": [
    "\n",
    "# Load your dataset\n",
    "df = pd.read_csv(\"synthetic_5g_qos_dataset_10000.csv\")  # Replace with actual file path\n"
   ]
  },
  {
   "cell_type": "code",
   "execution_count": 12,
   "id": "dfa72fc1",
   "metadata": {},
   "outputs": [],
   "source": [
    "\n",
    "# Encode categorical features\n",
    "le_ip_src = LabelEncoder()\n",
    "le_ip_dst = LabelEncoder()\n",
    "le_proto = LabelEncoder()\n",
    "le_qos = LabelEncoder()\n",
    "\n",
    "\n",
    "df['source_ip_enc'] = le_ip_src.fit_transform(df['source_ip'])\n",
    "df['destination_ip_enc'] = le_ip_dst.fit_transform(df['destination_ip'])\n",
    "df['protocol_enc'] = le_proto.fit_transform(df['protocol'])\n",
    "df['qos_class_enc'] = le_qos.fit_transform(df['qos_class'])"
   ]
  },
  {
   "cell_type": "code",
   "execution_count": 13,
   "id": "c4775372",
   "metadata": {},
   "outputs": [],
   "source": [
    "\n",
    "# Define features and target\n",
    "features = ['source_ip_enc', 'destination_ip_enc', 'protocol_enc', 'packet_size', 'inter_arrival_time_ms', 'jitter_ms']\n",
    "target = 'qos_class_enc'\n"
   ]
  },
  {
   "cell_type": "code",
   "execution_count": 14,
   "id": "c5ca2d0e",
   "metadata": {},
   "outputs": [
    {
     "data": {
      "text/plain": [
       "['source_ip_enc',\n",
       " 'destination_ip_enc',\n",
       " 'protocol_enc',\n",
       " 'packet_size',\n",
       " 'inter_arrival_time_ms',\n",
       " 'jitter_ms']"
      ]
     },
     "execution_count": 14,
     "metadata": {},
     "output_type": "execute_result"
    }
   ],
   "source": [
    "\n",
    "features"
   ]
  },
  {
   "cell_type": "code",
   "execution_count": 15,
   "id": "31429f8c",
   "metadata": {},
   "outputs": [
    {
     "data": {
      "text/plain": [
       "'qos_class_enc'"
      ]
     },
     "execution_count": 15,
     "metadata": {},
     "output_type": "execute_result"
    }
   ],
   "source": [
    "target"
   ]
  },
  {
   "cell_type": "code",
   "execution_count": 16,
   "id": "24f87e5a",
   "metadata": {},
   "outputs": [],
   "source": [
    "X = df[features]\n",
    "y = df[target]\n"
   ]
  },
  {
   "cell_type": "code",
   "execution_count": 17,
   "id": "2283e556",
   "metadata": {},
   "outputs": [],
   "source": [
    "# Train/Test Split\n",
    "X_train, X_test, y_train, y_test = train_test_split(X, y, test_size=0.2, random_state=42)\n"
   ]
  },
  {
   "cell_type": "code",
   "execution_count": 18,
   "id": "638cf13d",
   "metadata": {},
   "outputs": [
    {
     "data": {
      "text/html": [
       "<style>#sk-container-id-1 {color: black;}#sk-container-id-1 pre{padding: 0;}#sk-container-id-1 div.sk-toggleable {background-color: white;}#sk-container-id-1 label.sk-toggleable__label {cursor: pointer;display: block;width: 100%;margin-bottom: 0;padding: 0.3em;box-sizing: border-box;text-align: center;}#sk-container-id-1 label.sk-toggleable__label-arrow:before {content: \"▸\";float: left;margin-right: 0.25em;color: #696969;}#sk-container-id-1 label.sk-toggleable__label-arrow:hover:before {color: black;}#sk-container-id-1 div.sk-estimator:hover label.sk-toggleable__label-arrow:before {color: black;}#sk-container-id-1 div.sk-toggleable__content {max-height: 0;max-width: 0;overflow: hidden;text-align: left;background-color: #f0f8ff;}#sk-container-id-1 div.sk-toggleable__content pre {margin: 0.2em;color: black;border-radius: 0.25em;background-color: #f0f8ff;}#sk-container-id-1 input.sk-toggleable__control:checked~div.sk-toggleable__content {max-height: 200px;max-width: 100%;overflow: auto;}#sk-container-id-1 input.sk-toggleable__control:checked~label.sk-toggleable__label-arrow:before {content: \"▾\";}#sk-container-id-1 div.sk-estimator input.sk-toggleable__control:checked~label.sk-toggleable__label {background-color: #d4ebff;}#sk-container-id-1 div.sk-label input.sk-toggleable__control:checked~label.sk-toggleable__label {background-color: #d4ebff;}#sk-container-id-1 input.sk-hidden--visually {border: 0;clip: rect(1px 1px 1px 1px);clip: rect(1px, 1px, 1px, 1px);height: 1px;margin: -1px;overflow: hidden;padding: 0;position: absolute;width: 1px;}#sk-container-id-1 div.sk-estimator {font-family: monospace;background-color: #f0f8ff;border: 1px dotted black;border-radius: 0.25em;box-sizing: border-box;margin-bottom: 0.5em;}#sk-container-id-1 div.sk-estimator:hover {background-color: #d4ebff;}#sk-container-id-1 div.sk-parallel-item::after {content: \"\";width: 100%;border-bottom: 1px solid gray;flex-grow: 1;}#sk-container-id-1 div.sk-label:hover label.sk-toggleable__label {background-color: #d4ebff;}#sk-container-id-1 div.sk-serial::before {content: \"\";position: absolute;border-left: 1px solid gray;box-sizing: border-box;top: 0;bottom: 0;left: 50%;z-index: 0;}#sk-container-id-1 div.sk-serial {display: flex;flex-direction: column;align-items: center;background-color: white;padding-right: 0.2em;padding-left: 0.2em;position: relative;}#sk-container-id-1 div.sk-item {position: relative;z-index: 1;}#sk-container-id-1 div.sk-parallel {display: flex;align-items: stretch;justify-content: center;background-color: white;position: relative;}#sk-container-id-1 div.sk-item::before, #sk-container-id-1 div.sk-parallel-item::before {content: \"\";position: absolute;border-left: 1px solid gray;box-sizing: border-box;top: 0;bottom: 0;left: 50%;z-index: -1;}#sk-container-id-1 div.sk-parallel-item {display: flex;flex-direction: column;z-index: 1;position: relative;background-color: white;}#sk-container-id-1 div.sk-parallel-item:first-child::after {align-self: flex-end;width: 50%;}#sk-container-id-1 div.sk-parallel-item:last-child::after {align-self: flex-start;width: 50%;}#sk-container-id-1 div.sk-parallel-item:only-child::after {width: 0;}#sk-container-id-1 div.sk-dashed-wrapped {border: 1px dashed gray;margin: 0 0.4em 0.5em 0.4em;box-sizing: border-box;padding-bottom: 0.4em;background-color: white;}#sk-container-id-1 div.sk-label label {font-family: monospace;font-weight: bold;display: inline-block;line-height: 1.2em;}#sk-container-id-1 div.sk-label-container {text-align: center;}#sk-container-id-1 div.sk-container {/* jupyter's `normalize.less` sets `[hidden] { display: none; }` but bootstrap.min.css set `[hidden] { display: none !important; }` so we also need the `!important` here to be able to override the default hidden behavior on the sphinx rendered scikit-learn.org. See: https://github.com/scikit-learn/scikit-learn/issues/21755 */display: inline-block !important;position: relative;}#sk-container-id-1 div.sk-text-repr-fallback {display: none;}</style><div id=\"sk-container-id-1\" class=\"sk-top-container\"><div class=\"sk-text-repr-fallback\"><pre>RandomForestClassifier(random_state=42)</pre><b>In a Jupyter environment, please rerun this cell to show the HTML representation or trust the notebook. <br />On GitHub, the HTML representation is unable to render, please try loading this page with nbviewer.org.</b></div><div class=\"sk-container\" hidden><div class=\"sk-item\"><div class=\"sk-estimator sk-toggleable\"><input class=\"sk-toggleable__control sk-hidden--visually\" id=\"sk-estimator-id-1\" type=\"checkbox\" checked><label for=\"sk-estimator-id-1\" class=\"sk-toggleable__label sk-toggleable__label-arrow\">RandomForestClassifier</label><div class=\"sk-toggleable__content\"><pre>RandomForestClassifier(random_state=42)</pre></div></div></div></div></div>"
      ],
      "text/plain": [
       "RandomForestClassifier(random_state=42)"
      ]
     },
     "execution_count": 18,
     "metadata": {},
     "output_type": "execute_result"
    }
   ],
   "source": [
    "\n",
    "# Model training\n",
    "model = RandomForestClassifier(n_estimators=100, random_state=42)\n",
    "model.fit(X_train, y_train)\n"
   ]
  },
  {
   "cell_type": "code",
   "execution_count": 19,
   "id": "369efdcd",
   "metadata": {},
   "outputs": [],
   "source": [
    "\n",
    "# Prediction\n",
    "y_pred = model.predict(X_test)\n"
   ]
  },
  {
   "cell_type": "code",
   "execution_count": 20,
   "id": "818ea7ee",
   "metadata": {},
   "outputs": [
    {
     "name": "stdout",
     "output_type": "stream",
     "text": [
      "Accuracy: 0.9905\n",
      "Classification Report:\n",
      "               precision    recall  f1-score   support\n",
      "\n",
      "           0       0.99      0.99      0.99       693\n",
      "           1       0.99      0.99      0.99       662\n",
      "           2       1.00      0.99      1.00       645\n",
      "\n",
      "    accuracy                           0.99      2000\n",
      "   macro avg       0.99      0.99      0.99      2000\n",
      "weighted avg       0.99      0.99      0.99      2000\n",
      "\n"
     ]
    }
   ],
   "source": [
    "\n",
    "# Evaluation\n",
    "print(\"Accuracy:\", accuracy_score(y_test, y_pred))\n",
    "print(\"Classification Report:\\n\", classification_report(y_test, y_pred))"
   ]
  },
  {
   "cell_type": "code",
   "execution_count": 21,
   "id": "2b0226f0",
   "metadata": {},
   "outputs": [],
   "source": [
    "y_test_labels = le_qos.inverse_transform(y_test)\n",
    "y_pred_labels = le_qos.inverse_transform(y_pred)"
   ]
  },
  {
   "cell_type": "code",
   "execution_count": 22,
   "id": "629acd9c",
   "metadata": {},
   "outputs": [
    {
     "data": {
      "text/plain": [
       "array(['URLLC', 'URLLC', 'eMBB', ..., 'URLLC', 'URLLC', 'URLLC'],\n",
       "      dtype=object)"
      ]
     },
     "execution_count": 22,
     "metadata": {},
     "output_type": "execute_result"
    }
   ],
   "source": [
    "y_test_labels"
   ]
  },
  {
   "cell_type": "code",
   "execution_count": 23,
   "id": "b30c4734",
   "metadata": {},
   "outputs": [
    {
     "data": {
      "text/plain": [
       "array(['URLLC', 'URLLC', 'eMBB', ..., 'URLLC', 'URLLC', 'URLLC'],\n",
       "      dtype=object)"
      ]
     },
     "execution_count": 23,
     "metadata": {},
     "output_type": "execute_result"
    }
   ],
   "source": [
    "y_pred_labels"
   ]
  },
  {
   "cell_type": "code",
   "execution_count": 24,
   "id": "16010003",
   "metadata": {},
   "outputs": [
    {
     "data": {
      "image/png": "[encoded data removed]",
      "text/plain": [
       "<Figure size 640x480 with 2 Axes>"
      ]
     },
     "metadata": {},
     "output_type": "display_data"
    }
   ],
   "source": [
    "import matplotlib.pyplot as plt\n",
    "from sklearn.metrics import confusion_matrix, ConfusionMatrixDisplay\n",
    "\n",
    "# Compute confusion matrix\n",
    "cm = confusion_matrix(y_test, y_pred)\n",
    "\n",
    "# Optional: If you want class names instead of numbers (reverse the label encoding)\n",
    "class_names = le_qos.inverse_transform([0, 1, 2])  # Adjust based on your encoded classes\n",
    "\n",
    "# Plot\n",
    "disp = ConfusionMatrixDisplay(confusion_matrix=cm, display_labels=class_names)\n",
    "disp.plot(cmap=plt.cm.Blues)\n",
    "plt.title(\"Confusion Matrix for QoS Classification\")\n",
    "plt.show()\n"
   ]
  },
  {
   "cell_type": "code",
   "execution_count": 25,
   "id": "6ea04e7c",
   "metadata": {},
   "outputs": [
    {
     "data": {
      "image/png": "[encoded data removed]",
      "text/plain": [
       "<Figure size 800x500 with 1 Axes>"
      ]
     },
     "metadata": {},
     "output_type": "display_data"
    }
   ],
   "source": [
    "import matplotlib.pyplot as plt\n",
    "import pandas as pd\n",
    "import numpy as np\n",
    "\n",
    "# Get feature importances\n",
    "importances = model.feature_importances_\n",
    "\n",
    "# Match with feature names\n",
    "feature_names = ['source_ip_enc', 'destination_ip_enc', 'protocol_enc', 'packet_size', 'inter_arrival', 'jitter_ms']\n",
    "\n",
    "# Create DataFrame for better visualization\n",
    "feature_df = pd.DataFrame({\n",
    "    'Feature': feature_names,\n",
    "    'Importance': importances\n",
    "}).sort_values(by='Importance', ascending=False)\n",
    "\n",
    "# Plot\n",
    "plt.figure(figsize=(8, 5))\n",
    "plt.barh(feature_df['Feature'], feature_df['Importance'], color='skyblue')\n",
    "plt.xlabel(\"Feature Importance Score\")\n",
    "plt.title(\"Feature Importance in QoS Classification (Random Forest)\")\n",
    "plt.gca().invert_yaxis()  # Highest importance on top\n",
    "plt.grid(True, axis='x', linestyle='--', alpha=0.7)\n",
    "plt.tight_layout()\n",
    "plt.show()\n"
   ]
  },
  {
   "cell_type": "code",
   "execution_count": 26,
   "id": "a95b1daf",
   "metadata": {},
   "outputs": [
    {
     "name": "stdout",
     "output_type": "stream",
     "text": [
      "Training Accuracy: 1.0000\n",
      "Test Accuracy:     0.9905\n"
     ]
    }
   ],
   "source": [
    "from sklearn.metrics import accuracy_score\n",
    "\n",
    "# Predict on training set\n",
    "y_train_pred = model.predict(X_train)\n",
    "\n",
    "# Accuracy scores\n",
    "train_acc = accuracy_score(y_train, y_train_pred)\n",
    "test_acc = accuracy_score(y_test, y_pred)\n",
    "\n",
    "print(f\"Training Accuracy: {train_acc:.4f}\")\n",
    "print(f\"Test Accuracy:     {test_acc:.4f}\")\n"
   ]
  },
  {
   "cell_type": "markdown",
   "id": "da695c17",
   "metadata": {},
   "source": [
    "ROC curves are binary classifiers by nature.\n",
    "To compute multi-class ROC curves, each class must be compared against all others (One-vs-Rest).\n",
    "So, label_binarize() converts something like"
   ]
  },
  {
   "cell_type": "code",
   "execution_count": 31,
   "id": "84e56a81",
   "metadata": {},
   "outputs": [
    {
     "data": {
      "image/png": "[encoded data removed]",
      "text/plain": [
       "<Figure size 800x600 with 1 Axes>"
      ]
     },
     "metadata": {},
     "output_type": "display_data"
    }
   ],
   "source": [
    "from sklearn.metrics import roc_auc_score, roc_curve, auc\n",
    "from sklearn.preprocessing import label_binarize\n",
    "import matplotlib.pyplot as plt\n",
    "from itertools import cycle\n",
    "\n",
    "# Step 1: Get probability estimates for each class\n",
    "y_score = model.predict_proba(X_test)\n",
    "\n",
    "# Step 2: Binarize the output labels\n",
    "n_classes = len(np.unique(y))\n",
    "y_test_bin = label_binarize(y_test, classes=np.arange(n_classes))\n",
    "\n",
    "# Step 3: Compute ROC AUC for each class\n",
    "fpr = dict()\n",
    "tpr = dict()\n",
    "roc_auc = dict()\n",
    "\n",
    "for i in range(n_classes):\n",
    "    fpr[i], tpr[i], _ = roc_curve(y_test_bin[:, i], y_score[:, i])\n",
    "    roc_auc[i] = auc(fpr[i], tpr[i])\n",
    "\n",
    "# Step 4: Plot ROC Curves\n",
    "colors = cycle(['darkorange', 'blue', 'green'])\n",
    "plt.figure(figsize=(8, 6))\n",
    "\n",
    "for i, color in zip(range(n_classes), colors):\n",
    "    plt.plot(fpr[i], tpr[i], color=color, lw=2,\n",
    "             label=f'Class {le_qos.inverse_transform([i])[0]} (AUC = {roc_auc[i]:0.2f})')\n",
    "\n",
    "plt.plot([0, 1], [0, 1], 'k--', lw=2)\n",
    "plt.xlim([-0.01, 1.01])\n",
    "plt.ylim([-0.01, 1.01])\n",
    "plt.xlabel('False Positive Rate')\n",
    "plt.ylabel('True Positive Rate')\n",
    "plt.title('ROC Curve - QoS Classification (Random Forest)')\n",
    "plt.legend(loc=\"lower right\")\n",
    "plt.grid(True)\n",
    "plt.tight_layout()\n",
    "plt.show()\n"
   ]
  },
  {
   "cell_type": "code",
   "execution_count": 32,
   "id": "5f374d8b",
   "metadata": {},
   "outputs": [
    {
     "name": "stdout",
     "output_type": "stream",
     "text": [
      "\n",
      "📄 Macro Average AUC: 0.9994\n",
      "📄 Weighted Average AUC: 0.9994\n"
     ]
    },
    {
     "data": {
      "image/png": "[encoded data removed]",
      "text/plain": [
       "<Figure size 800x500 with 1 Axes>"
      ]
     },
     "metadata": {},
     "output_type": "display_data"
    }
   ],
   "source": [
    "from sklearn.metrics import roc_auc_score, roc_curve, auc\n",
    "from sklearn.preprocessing import label_binarize\n",
    "import matplotlib.pyplot as plt\n",
    "import numpy as np\n",
    "\n",
    "# Number of classes\n",
    "n_classes = len(np.unique(y))\n",
    "\n",
    "# Binarize true labels\n",
    "y_test_bin = label_binarize(y_test, classes=np.arange(n_classes))\n",
    "\n",
    "# Get probability scores from the model\n",
    "y_score = model.predict_proba(X_test)\n",
    "\n",
    "# Compute AUC for each class\n",
    "fpr = dict()\n",
    "tpr = dict()\n",
    "roc_auc = dict()\n",
    "auc_scores = []\n",
    "\n",
    "for i in range(n_classes):\n",
    "    fpr[i], tpr[i], _ = roc_curve(y_test_bin[:, i], y_score[:, i])\n",
    "    roc_auc[i] = auc(fpr[i], tpr[i])\n",
    "    auc_scores.append(roc_auc[i])\n",
    "\n",
    "# Print macro and weighted average AUC\n",
    "macro_auc = np.mean(auc_scores)\n",
    "weighted_auc = roc_auc_score(y_test_bin, y_score, average='weighted', multi_class='ovr')\n",
    "print(f\"\\n📄 Macro Average AUC: {macro_auc:.4f}\")\n",
    "print(f\"📄 Weighted Average AUC: {weighted_auc:.4f}\")\n",
    "\n",
    "# 📊 Bar chart of AUC per class\n",
    "qos_labels = le_qos.inverse_transform(np.arange(n_classes))\n",
    "\n",
    "plt.figure(figsize=(8, 5))\n",
    "bars = plt.bar(qos_labels, auc_scores, color='skyblue')\n",
    "plt.ylim(0.0, 1.05)\n",
    "plt.ylabel('AUC Score')\n",
    "plt.title('AUC Scores per QoS Class (Random Forest)')\n",
    "plt.grid(axis='y', linestyle='--', alpha=0.7)\n",
    "\n",
    "# Add text labels above bars\n",
    "for bar in bars:\n",
    "    height = bar.get_height()\n",
    "    plt.text(bar.get_x() + bar.get_width()/2.0, height + 0.02, f\"{height:.2f}\", ha='center', fontweight='bold')\n",
    "\n",
    "plt.tight_layout()\n",
    "plt.show()\n"
   ]
  },
  {
   "cell_type": "code",
   "execution_count": null,
   "id": "7747ed8f",
   "metadata": {},
   "outputs": [],
   "source": []
  }
 ],
 "metadata": {
  "kernelspec": {
   "display_name": "Python 3 (ipykernel)",
   "language": "python",
   "name": "python3"
  },
  "language_info": {
   "codemirror_mode": {
    "name": "ipython",
    "version": 3
   },
   "file_extension": ".py",
   "mimetype": "text/x-python",
   "name": "python",
   "nbconvert_exporter": "python",
   "pygments_lexer": "ipython3",
   "version": "3.11.5"
  }
 },
 "nbformat": 4,
 "nbformat_minor": 5
}
